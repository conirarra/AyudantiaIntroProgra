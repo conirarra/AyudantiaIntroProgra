{
  "nbformat": 4,
  "nbformat_minor": 0,
  "metadata": {
    "colab": {
      "provenance": []
    },
    "kernelspec": {
      "name": "python3",
      "display_name": "Python 3"
    },
    "language_info": {
      "name": "python"
    }
  },
  "cells": [
    {
      "cell_type": "code",
      "execution_count": 35,
      "metadata": {
        "id": "wReV1tcqBoF7"
      },
      "outputs": [],
      "source": [
        "class Perro:\n",
        "  # Atributo de Clase\n",
        "  especie = 'mamífero'\n",
        "\n",
        "  def __init__(self, nombre, raza):\n",
        "    print(f\"Creando perro {nombre}, {raza}\")\n",
        "\n",
        "    # Atributos de Instancia\n",
        "    self.nombre = nombre\n",
        "    self.raza = raza\n",
        "\n",
        "  # Métodos\n",
        "  def ladra(self):\n",
        "    print(f\"{self.nombre}: Guau\")\n",
        "\n",
        "  def camina(self, pasos):\n",
        "    print(f\"{self.nombre}: Caminando {pasos} pasos\")\n",
        "\n",
        "  def dormir(self, horas):\n",
        "    print(f\"{self.nombre}: Durmiendo {horas} horas\")"
      ]
    },
    {
      "cell_type": "code",
      "source": [
        "mi_perro = Perro(\"Juanito\", \"Yorkshire\")\n",
        "mi_perro.ladra()\n",
        "mi_perro.camina(10)\n",
        "mi_perro.dormir(2)"
      ],
      "metadata": {
        "colab": {
          "base_uri": "https://localhost:8080/"
        },
        "id": "RE3nJggYJImE",
        "outputId": "63d05c92-dfb2-4f7d-c97a-a35f2f9642c9"
      },
      "execution_count": 36,
      "outputs": [
        {
          "output_type": "stream",
          "name": "stdout",
          "text": [
            "Creando perro Juanito, Yorkshire\n",
            "Juanito: Guau\n",
            "Juanito: Caminando 10 pasos\n",
            "Juanito: Durmiendo 2 horas\n"
          ]
        }
      ]
    },
    {
      "cell_type": "code",
      "source": [
        "tu_perro = Perro(\"Pedrito\", \"Bulldog\")\n",
        "tu_perro.ladra()\n",
        "tu_perro.camina(100)\n",
        "tu_perro.dormir(5)"
      ],
      "metadata": {
        "colab": {
          "base_uri": "https://localhost:8080/"
        },
        "id": "JWOarkwoJJCR",
        "outputId": "04b29018-d656-4c15-8b02-d206a2567b37"
      },
      "execution_count": 31,
      "outputs": [
        {
          "output_type": "stream",
          "name": "stdout",
          "text": [
            "Creando perro Pedrito, Bulldog\n",
            "Pedrito: Guau\n",
            "Pedrito: Caminando 100 pasos\n",
            "Pedrito: Durmiendo 5 horas\n"
          ]
        }
      ]
    },
    {
      "cell_type": "code",
      "source": [
        "a = open(\"archivo\", \"w\")\n",
        "a.read()\n",
        "a.write()\n",
        "\n",
        "with open(\"archivo\", \"w\") as a:\n",
        "  a.read()\n",
        "  a.write()\n",
        "\n",
        "# r -> read (modo default)  (si archivo no existe, tira error)\n",
        "# w -> write (sobreescribe) (si archivo no existe, lo crea)\n",
        "# a -> append (agrega al final) (si archivo no existe, lo crea)\n",
        "# x -> create (crea un archivo)"
      ],
      "metadata": {
        "id": "njUalKb1M9Qp"
      },
      "execution_count": null,
      "outputs": []
    }
  ]
}