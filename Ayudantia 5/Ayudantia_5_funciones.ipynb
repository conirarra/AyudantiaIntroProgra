{
  "nbformat": 4,
  "nbformat_minor": 0,
  "metadata": {
    "colab": {
      "provenance": []
    },
    "kernelspec": {
      "name": "python3",
      "display_name": "Python 3"
    },
    "language_info": {
      "name": "python"
    }
  },
  "cells": [
    {
      "cell_type": "markdown",
      "source": [
        "utils.py"
      ],
      "metadata": {
        "id": "vqKVZZgEJmxm"
      }
    },
    {
      "cell_type": "code",
      "execution_count": null,
      "metadata": {
        "id": "EpY3bJKwELqt"
      },
      "outputs": [],
      "source": [
        "def botar(objeto):\n",
        "  if tamaño del objeto es grande:\n",
        "    botar al frente de la casa\n",
        "  elif tamaño del objeto es medio:\n",
        "    abrir bolsa de basura nueva\n",
        "    botar\n",
        "  else:\n",
        "    buscar bolsa abierta\n",
        "    botar\n",
        "\n",
        "def cosasConValor(objeto):\n",
        "  buscar en internet el valor de (objeto)\n",
        "  if valor alto or valor medio:\n",
        "    guardar en monton de (paraVender)\n",
        "  else:\n",
        "    botar(objeto)\n",
        "\n",
        "def cosasSentimentales(objeto):\n",
        "  ver si es un real valor sentimental\n",
        "  if True:\n",
        "    guardar\n",
        "  else:\n",
        "    botar(objeto)\n",
        "\n",
        "def donar(objeto):\n",
        "  if objeto limpio y buen estado:\n",
        "    donamos a caridad\n",
        "  else:\n",
        "    botar(objeto)"
      ]
    },
    {
      "cell_type": "markdown",
      "source": [
        "main.py"
      ],
      "metadata": {
        "id": "k9WbW7eLJo_Z"
      }
    },
    {
      "cell_type": "code",
      "source": [
        "import utils\n",
        "\n",
        "objetos = casaAbuela[\"lampara\",\"reloj antiguo\", \"boleta de la primera cita con el primer amor\", \"titulo de 8vo basico del 2do hijo\", \"collar\", \"tabla de planchar rota a la mitad\",\n",
        "                     \"cama de autito\", \"cuna\", \"macetero del rayo mcqueen\", \"caja con muchos clavos\", \"maquina de coser antigua rota\", \"parlante bluetooth\", \"ropa con hoyos\", \"ropa\",\n",
        "                     \"calcetines\", \"vestido de 1970 de Copacabana\"]\n",
        "\n",
        "for objeto in objetos:\n",
        "  if objeto == sentimental:\n",
        "    utils.cosasSentimentales(objeto)\n",
        "  elif objeto == Valor:\n",
        "    utils.cosasConValor(objeto)\n",
        "  elif objeto == para donar:\n",
        "    utils.donar(objeto)\n",
        "  else:\n",
        "    utils.botar(objeto)\n",
        "  objetos -= objeto"
      ],
      "metadata": {
        "id": "5w-I7pr3GV7v"
      },
      "execution_count": null,
      "outputs": []
    },
    {
      "cell_type": "code",
      "source": [
        "from utils import cosasSentimentales, cosasConValor, botar\n",
        "\n",
        "objetos = casaAbuela[\"lampara\",\"reloj antiguo\", \"boleta de la primera cita con el primer amor\", \"titulo de 8vo basico del 2do hijo\", \"collar\", \"tabla de planchar rota a la mitad\",\n",
        "                     \"cama de autito\", \"cuna\", \"macetero del rayo mcqueen\", \"caja con muchos clavos\", \"maquina de coser antigua rota\", \"parlante bluetooth\", \"ropa con hoyos\", \"ropa\",\n",
        "                     \"calcetines\", \"vestido de 1970 de Copacabana\"]\n",
        "\n",
        "for objeto in objetos:\n",
        "  if objeto == sentimental:\n",
        "    cosasSentimentales(objeto)\n",
        "  elif objeto == Valor:\n",
        "    cosasConValor(objeto)\n",
        "  else:\n",
        "    botar(objeto)\n",
        "  objetos -= objeto"
      ],
      "metadata": {
        "id": "u4hXb-5HJ0Y1"
      },
      "execution_count": null,
      "outputs": []
    }
  ]
}