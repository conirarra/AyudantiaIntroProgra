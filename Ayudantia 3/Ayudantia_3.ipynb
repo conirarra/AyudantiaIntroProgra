{
  "nbformat": 4,
  "nbformat_minor": 0,
  "metadata": {
    "colab": {
      "provenance": []
    },
    "kernelspec": {
      "name": "python3",
      "display_name": "Python 3"
    },
    "language_info": {
      "name": "python"
    }
  },
  "cells": [
    {
      "cell_type": "markdown",
      "source": [
        "Construye un programa en Python que le pida al usuario 3 números enteros y los muestre en pantalla de mayor a menor. (Usar If Anidados)"
      ],
      "metadata": {
        "id": "0xKMhzvAwevy"
      }
    },
    {
      "cell_type": "code",
      "execution_count": null,
      "metadata": {
        "id": "4h2SAskdv1fr"
      },
      "outputs": [],
      "source": [
        "a = int(input())\n",
        "b = int(input())\n",
        "c = int(input())\n",
        "\n",
        "if a > b:\n",
        "  if a > c:\n",
        "    if b > c:    # A mayor\n",
        "      print(f\"{a},{b},{c}\") # a > b > c\n",
        "    else:\n",
        "      print(f\"{a},{c},{b}\") # a > c > b\n",
        "  else:         # C mayor\n",
        "    print(f\"{c},{a},{b}\") # c > a > b\n",
        "else:\n",
        "  if a > c:   # B mayor\n",
        "    print(f\"{b},{a},{c}\") # b > a > c\n",
        "  else:    # A menor\n",
        "    if c > b:\n",
        "      print(f\"{c},{b},{a}\") # c > b > a\n",
        "    else:\n",
        "      print(f\"{b},{c},{a}\") # b > c > a"
      ]
    },
    {
      "cell_type": "markdown",
      "source": [
        "Construye un programa en Python que le pida al usuario un número entero y diga si es primo o compuesto (no primo). Numeros del 1 al 20."
      ],
      "metadata": {
        "id": "Wcoh6kvXwi2E"
      }
    },
    {
      "cell_type": "code",
      "source": [
        "resto = 1\n",
        "\n",
        "while resto != 0:\n",
        "  a = int(input())\n",
        "  while a < 21:\n",
        "    if (a > 3):  # 4 al 20\n",
        "      resto = a % 2\n",
        "      if resto == 0:\n",
        "        print(\"No es numero primo\")\n",
        "        break\n",
        "      else:\n",
        "        resto = a % 3\n",
        "        if resto == 0:\n",
        "          print(\"No es numero primo\")\n",
        "        else:\n",
        "          print(\"Numero primo\")\n",
        "        break\n",
        "    elif a > 0:   # 1, 2, 3\n",
        "      print(\"Numero primo\")\n",
        "    else:   # todo el resto\n",
        "      print(\"No es un numero del 1 al 20\")\n",
        "  if a > 20:\n",
        "    print(\"No es un numero del 1 al 20\")"
      ],
      "metadata": {
        "colab": {
          "base_uri": "https://localhost:8080/"
        },
        "id": "aZTqQSgr39GX",
        "outputId": "8ca63bf8-1017-4501-96e7-cc4a7f9d9ea2"
      },
      "execution_count": 13,
      "outputs": [
        {
          "output_type": "stream",
          "name": "stdout",
          "text": [
            "5\n",
            "Numero primo\n",
            "6\n",
            "No es numero primo\n"
          ]
        }
      ]
    }
  ]
}