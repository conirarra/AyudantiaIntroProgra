{
  "nbformat": 4,
  "nbformat_minor": 0,
  "metadata": {
    "colab": {
      "provenance": []
    },
    "kernelspec": {
      "name": "python3",
      "display_name": "Python 3"
    },
    "language_info": {
      "name": "python"
    }
  },
  "cells": [
    {
      "cell_type": "code",
      "execution_count": null,
      "metadata": {
        "id": "wReV1tcqBoF7"
      },
      "outputs": [],
      "source": [
        "class Perro:\n",
        "  # Atributo de Clase\n",
        "  especie = 'mamífero'\n",
        "\n",
        "  def __init__(self, nombre, raza):\n",
        "    print(f\"Creando perro {nombre}, {raza}\")\n",
        "\n",
        "    # Atributos de Instancia\n",
        "    self.nombre = nombre\n",
        "    self.raza = raza\n",
        "\n",
        "  # Métodos\n",
        "  def ladra(self):\n",
        "    print(f\"{self.nombre}: Guau\")\n",
        "\n",
        "  def camina(self, pasos):\n",
        "    print(f\"{self.nombre}: Caminando {pasos} pasos\")\n",
        "\n",
        "  def dormir(self, horas):\n",
        "    print(f\"{self.nombre}: Durmiendo {horas} horas\")\n",
        "\n",
        "  def comer(self, comida):\n",
        "    print(f\"{self.nombre}: Comiendo {comida}\")"
      ]
    },
    {
      "cell_type": "code",
      "source": [
        "mi_perro = Perro(\"Juanito\", \"Yorkshire\")\n",
        "mi_perro.ladra()\n",
        "mi_perro.camina(10)\n",
        "mi_perro.dormir(2)"
      ],
      "metadata": {
        "colab": {
          "base_uri": "https://localhost:8080/"
        },
        "id": "RE3nJggYJImE",
        "outputId": "52eca825-0d70-4b5d-d9a7-adab9971f752"
      },
      "execution_count": null,
      "outputs": [
        {
          "output_type": "stream",
          "name": "stdout",
          "text": [
            "Creando perro Juanito, Yorkshire\n",
            "Juanito: Guau\n",
            "Juanito: Caminando 10 pasos\n",
            "Juanito: Durmiendo 2 horas\n"
          ]
        }
      ]
    },
    {
      "cell_type": "code",
      "source": [
        "tu_perro = Perro(\"Pedrito\", \"Bulldog\")\n",
        "tu_perro.ladra()\n",
        "tu_perro.camina(100)\n",
        "tu_perro.dormir(5)"
      ],
      "metadata": {
        "colab": {
          "base_uri": "https://localhost:8080/"
        },
        "id": "JWOarkwoJJCR",
        "outputId": "d0db1a5f-c148-43b8-e97d-99c897ef5bd9"
      },
      "execution_count": null,
      "outputs": [
        {
          "output_type": "stream",
          "name": "stdout",
          "text": [
            "Creando perro Pedrito, Bulldog\n",
            "Pedrito: Guau\n",
            "Pedrito: Caminando 100 pasos\n",
            "Pedrito: Durmiendo 5 horas\n"
          ]
        }
      ]
    },
    {
      "cell_type": "code",
      "source": [
        "nuestro_perro = Perro(\"Matias\", \"Chihuahua\")\n",
        "nuestro_perro.ladra()\n",
        "nuestro_perro.camina(1)\n",
        "nuestro_perro.dormir(24)"
      ],
      "metadata": {
        "colab": {
          "base_uri": "https://localhost:8080/"
        },
        "id": "xIK8OHvhLk_F",
        "outputId": "663444cf-e50f-4dba-ca25-093d377d84df"
      },
      "execution_count": null,
      "outputs": [
        {
          "output_type": "stream",
          "name": "stdout",
          "text": [
            "Creando perro Matias, Chihuahua\n",
            "Matias: Guau\n",
            "Matias: Caminando 1 pasos\n",
            "Matias: Durmiendo 24 horas\n"
          ]
        }
      ]
    },
    {
      "cell_type": "code",
      "source": [
        "mi_perro.ladra()\n",
        "tu_perro.ladra()\n",
        "nuestro_perro.ladra()"
      ],
      "metadata": {
        "colab": {
          "base_uri": "https://localhost:8080/"
        },
        "id": "mOH3h2ieLd38",
        "outputId": "1766c678-a258-4844-a1b3-7e79b56d9db9"
      },
      "execution_count": null,
      "outputs": [
        {
          "output_type": "stream",
          "name": "stdout",
          "text": [
            "Juanito: Guau\n",
            "Pedrito: Guau\n",
            "Matias: Guau\n"
          ]
        }
      ]
    },
    {
      "cell_type": "code",
      "source": [
        "mi_perro.comer(\"palomitas\")\n",
        "tu_perro.comer(\"Bistec\")\n",
        "nuestro_perro.comer(\"Papas Fritas\")"
      ],
      "metadata": {
        "colab": {
          "base_uri": "https://localhost:8080/"
        },
        "id": "el6Pzfd2MF5r",
        "outputId": "7bf30f0b-e7d9-4212-e7c3-90ef59cf5990"
      },
      "execution_count": null,
      "outputs": [
        {
          "output_type": "stream",
          "name": "stdout",
          "text": [
            "Juanito: Comiendo palomitas\n",
            "Pedrito: Comiendo Bistec\n",
            "Matias: Comiendo Papas Fritas\n"
          ]
        }
      ]
    },
    {
      "cell_type": "code",
      "source": [
        "print(mi_perro.especie)\n",
        "print(tu_perro.especie)\n",
        "print(nuestro_perro.especie)"
      ],
      "metadata": {
        "colab": {
          "base_uri": "https://localhost:8080/"
        },
        "id": "xAK1H4nPMVMA",
        "outputId": "866439a4-cb9d-4e3d-c05d-557fe3bec533"
      },
      "execution_count": null,
      "outputs": [
        {
          "output_type": "stream",
          "name": "stdout",
          "text": [
            "mamífero\n",
            "mamífero\n",
            "mamífero\n"
          ]
        }
      ]
    },
    {
      "cell_type": "code",
      "source": [
        "a = open(\"archivo\", \"w\")\n",
        "a.read()\n",
        "a.write()\n",
        "\n",
        "with open(\"archivo\", \"w\") as a:\n",
        "  a.read()\n",
        "  a.write()\n",
        "\n",
        "a.close()\n",
        "\n",
        "# r -> read (modo default)  (si archivo no existe, tira error)\n",
        "# w -> write (sobreescribe) (si archivo no existe, lo crea)\n",
        "# a -> append (agrega al final) (si archivo no existe, lo crea)\n",
        "# x -> create (crea un archivo)"
      ],
      "metadata": {
        "id": "njUalKb1M9Qp"
      },
      "execution_count": null,
      "outputs": []
    },
    {
      "cell_type": "code",
      "source": [
        "a = open(\"archivo.txt\", \"w\")\n",
        "frase = \"Hola\"\n",
        "a.write(frase)\n",
        "a.close()\n",
        "\n",
        "a = open(\"archivo.txt\", \"r\")\n",
        "frase = \"Mundo\"\n",
        "#a.write(frase)\n",
        "a.close()\n",
        "\n",
        "a = open(\"archivo.txt\", \"w\")\n",
        "frase = \"!\"\n",
        "a.write(frase)\n",
        "a.close()\n",
        "\n",
        "b = open(\"archivo1.txt\", \"x\")\n",
        "b.write(\"Hola Mundo!\")\n",
        "b = open(\"archivo1.txt\", \"r\")\n",
        "print(b.read())\n",
        "b.close()\n",
        "\n",
        "\n",
        "a = open(\"archivo.txt\", \"r\")\n",
        "texto = a.read()\n",
        "print(texto)\n",
        "a.close()"
      ],
      "metadata": {
        "colab": {
          "base_uri": "https://localhost:8080/"
        },
        "id": "-plOI6_BSCO-",
        "outputId": "0e369e9c-282a-40de-aa97-759530c3b83a"
      },
      "execution_count": null,
      "outputs": [
        {
          "output_type": "stream",
          "name": "stdout",
          "text": [
            "Hola Mundo!\n",
            "!\n"
          ]
        }
      ]
    }
  ]
}