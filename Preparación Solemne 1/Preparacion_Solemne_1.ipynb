{
  "nbformat": 4,
  "nbformat_minor": 0,
  "metadata": {
    "colab": {
      "provenance": []
    },
    "kernelspec": {
      "name": "python3",
      "display_name": "Python 3"
    },
    "language_info": {
      "name": "python"
    }
  },
  "cells": [
    {
      "cell_type": "code",
      "execution_count": null,
      "metadata": {
        "id": "2bWAiMgQ3nFT"
      },
      "outputs": [],
      "source": [
        "i = 0\n",
        "a = 2\n",
        "b = 8\n",
        "\n",
        "while i<a:\n",
        "  while b>0:\n",
        "    b=b-1\n",
        "  i=i+1"
      ]
    },
    {
      "cell_type": "markdown",
      "source": [
        "¿Cuál es el último valor que toma b?\n",
        "*   0\n",
        "*   5\n",
        "*   2\n",
        "*   6\n",
        "\n"
      ],
      "metadata": {
        "id": "Kd8c71pK4ubH"
      }
    },
    {
      "cell_type": "code",
      "source": [
        "print(\"Hola Mundo\")\n",
        "print(\"Hola\") # Hola Mundo\n",
        "\n",
        "\"\"\" Hola Mundo\n",
        "\"\"\"\n",
        "\n",
        "print(\"\"\"'Esto es un comentario'\"\"\")"
      ],
      "metadata": {
        "colab": {
          "base_uri": "https://localhost:8080/"
        },
        "id": "S8531psz5YQ_",
        "outputId": "0ab337ce-bb87-4b62-faa8-ad5598bd8feb"
      },
      "execution_count": 19,
      "outputs": [
        {
          "output_type": "stream",
          "name": "stdout",
          "text": [
            "Hola Mundo\n",
            "Hola\n",
            "'Esto es un comentario'\n"
          ]
        }
      ]
    },
    {
      "cell_type": "code",
      "source": [
        "lista = input(\"Ingrese frase:\")\n",
        "lista = lista.split()\n",
        "ma = lista[0]\n",
        "for i in range(1,len(lista)):\n",
        "  if len(lista[i]) > len(ma):\n",
        "    ma = lista[i]\n",
        "print(f\"{ma}\")"
      ],
      "metadata": {
        "colab": {
          "base_uri": "https://localhost:8080/"
        },
        "collapsed": true,
        "id": "A4Du08Av-Wk-",
        "outputId": "702f3c9e-1bf0-4151-c0fc-d07026e1c88c"
      },
      "execution_count": 21,
      "outputs": [
        {
          "output_type": "stream",
          "name": "stdout",
          "text": [
            "Ingrese frase:Hola Buenos Dias\n",
            "Buenos\n"
          ]
        }
      ]
    },
    {
      "cell_type": "markdown",
      "source": [
        "¿ Cuantas veces cambiará el valor de la variable ma, si la frase ingresada es \"Buenos dias a todos los presentes\"?\n",
        "\n"
      ],
      "metadata": {
        "id": "yEkB5TzzAfKp"
      }
    },
    {
      "cell_type": "code",
      "source": [
        "import random\n",
        "\n",
        "lista = []\n",
        "valor_min = 10\n",
        "valor_max = 0\n",
        "\n",
        "for i in range(4):\n",
        "  lista.append(random.randint(valor_max, valor_min))\n",
        "\n",
        "for numero in lista:\n",
        "  if (numero < valor_min):\n",
        "    valor_min = numero\n",
        "  if (numero > valor_max):\n",
        "    valor_max = numero\n",
        "\n",
        "\n",
        "print(f\"{valor_min},{valor_max}\")"
      ],
      "metadata": {
        "id": "RXCEg50eBazz"
      },
      "execution_count": null,
      "outputs": []
    }
  ]
}